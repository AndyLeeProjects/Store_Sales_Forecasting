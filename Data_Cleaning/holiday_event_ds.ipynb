{
 "cells": [
  {
   "cell_type": "code",
   "execution_count": 1,
   "metadata": {},
   "outputs": [
    {
     "name": "stdout",
     "output_type": "stream",
     "text": [
      "           date        type    locale locale_name  \\\n",
      "0    2012-03-02     Holiday     Local       Manta   \n",
      "1    2012-04-01     Holiday  Regional    Cotopaxi   \n",
      "2    2012-04-12     Holiday     Local      Cuenca   \n",
      "3    2012-04-14     Holiday     Local    Libertad   \n",
      "4    2012-04-21     Holiday     Local    Riobamba   \n",
      "..          ...         ...       ...         ...   \n",
      "345  2017-12-22  Additional  National     Ecuador   \n",
      "346  2017-12-23  Additional  National     Ecuador   \n",
      "347  2017-12-24  Additional  National     Ecuador   \n",
      "348  2017-12-25     Holiday  National     Ecuador   \n",
      "349  2017-12-26  Additional  National     Ecuador   \n",
      "\n",
      "                       description  transferred  \n",
      "0               Fundacion de Manta        False  \n",
      "1    Provincializacion de Cotopaxi        False  \n",
      "2              Fundacion de Cuenca        False  \n",
      "3        Cantonizacion de Libertad        False  \n",
      "4        Cantonizacion de Riobamba        False  \n",
      "..                             ...          ...  \n",
      "345                      Navidad-3        False  \n",
      "346                      Navidad-2        False  \n",
      "347                      Navidad-1        False  \n",
      "348                        Navidad        False  \n",
      "349                      Navidad+1        False  \n",
      "\n",
      "[350 rows x 6 columns]\n"
     ]
    }
   ],
   "source": [
    "import pandas as pd \n",
    "\n",
    "holiday = pd.read_csv(\"/Users/andylee/Desktop/Store_Sales_Forecasting/Datasets/holidays_events.csv\")\n",
    "print(holiday)"
   ]
  }
 ],
 "metadata": {
  "kernelspec": {
   "display_name": "Python 3.9.12 ('base')",
   "language": "python",
   "name": "python3"
  },
  "language_info": {
   "codemirror_mode": {
    "name": "ipython",
    "version": 3
   },
   "file_extension": ".py",
   "mimetype": "text/x-python",
   "name": "python",
   "nbconvert_exporter": "python",
   "pygments_lexer": "ipython3",
   "version": "3.9.12"
  },
  "orig_nbformat": 4,
  "vscode": {
   "interpreter": {
    "hash": "63cdb56e09a00dd08f47a70022e8a9ae04f453d80c83a43d668c45975228ed54"
   }
  }
 },
 "nbformat": 4,
 "nbformat_minor": 2
}
